{
  "cells": [
    {
      "cell_type": "markdown",
      "metadata": {
        "id": "view-in-github",
        "colab_type": "text"
      },
      "source": [
        "<a href=\"https://colab.research.google.com/github/ferit-osirv/lab-7-PatriciaA2/blob/main/Patricia_Adzic_lab7.ipynb\" target=\"_parent\"><img src=\"https://colab.research.google.com/assets/colab-badge.svg\" alt=\"Open In Colab\"/></a>"
      ]
    },
    {
      "cell_type": "markdown",
      "metadata": {
        "id": "nb2ObAKq3-en"
      },
      "source": [
        "[![Open In Colab](https://colab.research.google.com/assets/colab-badge.svg)](https://colab.research.google.com/github/ferit-osirv/lab7/blob/main/lab7.ipynb)\n"
      ]
    },
    {
      "cell_type": "markdown",
      "metadata": {
        "id": "KGhReMTpaUrt"
      },
      "source": [
        "## Lab 7: Introduction to Medical Image Processing\n",
        "\n",
        "The primary objective of this assignment is to measure the width of a person’s spleen using CT images to determine if they have **splenomegaly**, a condition where the spleen is abnormally enlarged.\n",
        "\n",
        "### Background:\n",
        "\n",
        "![Anatomical-Planes-and-Axes.jpg](https://marinbenc.notion.site/image/https%3A%2F%2Fprod-files-secure.s3.us-west-2.amazonaws.com%2Ff636e5c1-42c8-49e7-9cc3-e812a7ed4e8b%2Fd4cae84a-7df6-43f2-8ec1-30cf6e67eeb6%2FAnatomical-Planes-and-Axes.jpg?table=block&id=1814daba-200a-800f-a6fc-e55eacb0e6ee&spaceId=f636e5c1-42c8-49e7-9cc3-e812a7ed4e8b&width=1420&userId=&cache=v2)\n",
        "\n",
        "![Schematic-diagram-showing-the-method-for-measuring-splenic-length-width-and-depth-in.png](https://marinbenc.notion.site/image/https%3A%2F%2Fprod-files-secure.s3.us-west-2.amazonaws.com%2Ff636e5c1-42c8-49e7-9cc3-e812a7ed4e8b%2Fb73c6a09-930a-4343-98b5-37ba805680ca%2FSchematic-diagram-showing-the-method-for-measuring-splenic-length-width-and-depth-in.png?table=block&id=1814daba-200a-8057-bd38-d3c00e0c2727&spaceId=f636e5c1-42c8-49e7-9cc3-e812a7ed4e8b&width=1420&userId=&cache=v2)\n",
        "\n",
        "Splenomegaly can indicate various underlying conditions, including infections, liver disease, or blood disorders. Accurate measurement of spleen size is essential in clinical practice to diagnose and monitor these conditions. In this assignment, we will specifically focus on measuring the **maximum anterior-posterior (AP) width** of the spleen on transverse CT slices. This is the longest distance between the anterior (front) and posterior (back) parts of the spleen in a given transverse (parallel to the floor when standing) slice. See the photos above for an explanation of these terms (spleen width is labeled as “Width” on the transverse plane image).\n",
        "\n",
        "![Screenshot 2025-01-20 at 11.47.35.png](https://marinbenc.notion.site/image/https%3A%2F%2Fprod-files-secure.s3.us-west-2.amazonaws.com%2Ff636e5c1-42c8-49e7-9cc3-e812a7ed4e8b%2Fdaec3bd4-5324-4349-ac1a-36351bdb4f13%2FScreenshot_2025-01-20_at_11.47.35.png?table=block&id=1814daba-200a-8067-8c13-cf2b7cc4cda3&spaceId=f636e5c1-42c8-49e7-9cc3-e812a7ed4e8b&width=1420&userId=&cache=v2)\n",
        "\n",
        "### Medical Imaging:\n",
        "\n",
        "Medical images like **CT (Computed Tomography)**, **MRI (Magnetic Resonance Imaging)**, and **X-rays** provide detailed insights into the human body. CT images, in particular, are widely used in diagnosing conditions involving internal organs. These images are essentially 3D scans reconstructed into slices, which are 2D cross-sectional views of the body.\n",
        "\n",
        "### What are Voxel-Based Images?\n",
        "\n",
        "Unlike regular 2D images made up of pixels, CT images are **voxel-based**. A voxel (volumetric pixel) represents a 3D volume of space, capturing more detailed spatial information. Each CT scan is a 3D array of voxels, often represented as a **NumPy array** in Python, where the dimensions correspond to the axial (X), coronal (Y), and sagittal (Z) planes.\n",
        "\n",
        "For example:\n",
        "\n",
        "- A CT image might have a shape of `(512, 512, 100)`, where:\n",
        "    - `512 x 512` corresponds to the width and height of each 2D slice.\n",
        "    - `100` represents the number of slices along the Z-axis (depth).\n",
        "\n",
        "### Voxel Size:\n",
        "\n",
        "Each voxel has a physical size in millimeters, known as **voxel spacing**. This size determines the real-world dimensions represented by each voxel. The voxel size is typically provided in the CT scan metadata as `[row_spacing, col_spacing, slice_thickness]`. For example:\n",
        "\n",
        "- A voxel size of `[0.78125, 0.78125, 3.0]` means:\n",
        "    - Each pixel represents `0.78125 mm` in the axial plane (X-Y).\n",
        "    - The distance between slices is `3.0 mm`.\n",
        "\n",
        "Accurately interpreting voxel sizes is critical for converting measurements (e.g., spleen width) from pixels to real-world units (millimeters)."
      ]
    },
    {
      "cell_type": "markdown",
      "metadata": {
        "id": "PoQ-wWQtaUru"
      },
      "source": [
        "## Prerequisites\n",
        "\n",
        "### Dataset\n",
        "\n",
        "The Spleen Dataset from the Medical Segmentation Decathlon (MSD) is a benchmark dataset designed for the development and evaluation of medical image segmentation algorithms. It consists of 3D CT scans of the abdomen, focusing on the spleen. The dataset includes both imaging data and corresponding ground truth segmentation masks, where the spleen is labeled for each slice in the scans.\n",
        "\n",
        "- Target: Spleen\n",
        "- Modality: CT\n",
        "- Size: 61 3D volumes (41 Training + 20 Testing)\n",
        "- Source: Memorial Sloan Kettering Cancer Center, http://medicaldecathlon.com\n",
        "\n",
        "Download and extract the dataset by running the following two code blocks (it might take a few minutes)."
      ]
    },
    {
      "cell_type": "code",
      "execution_count": null,
      "metadata": {
        "id": "5l48o1uBaUrv"
      },
      "outputs": [],
      "source": [
        "import numpy as np\n",
        "import matplotlib.pyplot as plt\n",
        "import nibabel as nib\n",
        "import cv2 as cv"
      ]
    },
    {
      "cell_type": "code",
      "execution_count": null,
      "metadata": {
        "colab": {
          "base_uri": "https://localhost:8080/"
        },
        "id": "W4hyvMi4aUrw",
        "outputId": "0fe4a4e4-5ee4-48cf-910f-f7e984cae1e7"
      },
      "outputs": [
        {
          "output_type": "stream",
          "name": "stdout",
          "text": [
            "Downloading...\n",
            "From (original): https://drive.google.com/uc?id=1jzeNU1EKnK81PyTsrx0ujfNl-t0Jo8uE\n",
            "From (redirected): https://drive.google.com/uc?id=1jzeNU1EKnK81PyTsrx0ujfNl-t0Jo8uE&confirm=t&uuid=af6720fa-4898-4b9b-8b3a-9b63188fcd9b\n",
            "To: /content/batch1.tar\n",
            "100% 1.61G/1.61G [00:27<00:00, 58.6MB/s]\n"
          ]
        }
      ],
      "source": [
        "!gdown --fuzzy 'https://drive.google.com/file/d/1jzeNU1EKnK81PyTsrx0ujfNl-t0Jo8uE/view?usp=share_link' -O batch1.tar"
      ]
    },
    {
      "cell_type": "code",
      "execution_count": null,
      "metadata": {
        "colab": {
          "base_uri": "https://localhost:8080/"
        },
        "id": "N3BzZv8saUrw",
        "outputId": "0fba1ac4-3601-4275-a1b1-20921a663fe6"
      },
      "outputs": [
        {
          "output_type": "stream",
          "name": "stdout",
          "text": [
            "./._Task09_Spleen\n",
            "Task09_Spleen/\n",
            "Task09_Spleen/._labelsTr\n",
            "Task09_Spleen/labelsTr/\n",
            "Task09_Spleen/._imagesTr\n",
            "Task09_Spleen/imagesTr/\n",
            "Task09_Spleen/._imagesTs\n",
            "Task09_Spleen/imagesTs/\n",
            "Task09_Spleen/._dataset.json\n",
            "Task09_Spleen/dataset.json\n",
            "Task09_Spleen/imagesTs/._spleen_15.nii.gz\n",
            "Task09_Spleen/imagesTs/spleen_15.nii.gz\n",
            "Task09_Spleen/imagesTs/._spleen_23.nii.gz\n",
            "Task09_Spleen/imagesTs/spleen_23.nii.gz\n",
            "Task09_Spleen/imagesTs/._spleen_1.nii.gz\n",
            "Task09_Spleen/imagesTs/spleen_1.nii.gz\n",
            "Task09_Spleen/imagesTs/._spleen_42.nii.gz\n",
            "Task09_Spleen/imagesTs/spleen_42.nii.gz\n",
            "Task09_Spleen/imagesTs/._spleen_50.nii.gz\n",
            "Task09_Spleen/imagesTs/spleen_50.nii.gz\n",
            "Task09_Spleen/imagesTs/._spleen_54.nii.gz\n",
            "Task09_Spleen/imagesTs/spleen_54.nii.gz\n",
            "Task09_Spleen/imagesTs/._spleen_37.nii.gz\n",
            "Task09_Spleen/imagesTs/spleen_37.nii.gz\n",
            "Task09_Spleen/imagesTs/._spleen_58.nii.gz\n",
            "Task09_Spleen/imagesTs/spleen_58.nii.gz\n",
            "Task09_Spleen/imagesTs/._spleen_39.nii.gz\n",
            "Task09_Spleen/imagesTs/spleen_39.nii.gz\n",
            "Task09_Spleen/imagesTs/._spleen_48.nii.gz\n",
            "Task09_Spleen/imagesTs/spleen_48.nii.gz\n",
            "Task09_Spleen/imagesTs/._spleen_35.nii.gz\n",
            "Task09_Spleen/imagesTs/spleen_35.nii.gz\n",
            "Task09_Spleen/imagesTs/._spleen_11.nii.gz\n",
            "Task09_Spleen/imagesTs/spleen_11.nii.gz\n",
            "Task09_Spleen/imagesTs/._spleen_7.nii.gz\n",
            "Task09_Spleen/imagesTs/spleen_7.nii.gz\n",
            "Task09_Spleen/imagesTs/._spleen_30.nii.gz\n",
            "Task09_Spleen/imagesTs/spleen_30.nii.gz\n",
            "Task09_Spleen/imagesTs/._spleen_43.nii.gz\n",
            "Task09_Spleen/imagesTs/spleen_43.nii.gz\n",
            "Task09_Spleen/imagesTs/._spleen_51.nii.gz\n",
            "Task09_Spleen/imagesTs/spleen_51.nii.gz\n",
            "Task09_Spleen/imagesTs/._spleen_36.nii.gz\n",
            "Task09_Spleen/imagesTs/spleen_36.nii.gz\n",
            "Task09_Spleen/imagesTs/._spleen_55.nii.gz\n",
            "Task09_Spleen/imagesTs/spleen_55.nii.gz\n",
            "Task09_Spleen/imagesTs/._spleen_57.nii.gz\n",
            "Task09_Spleen/imagesTs/spleen_57.nii.gz\n",
            "Task09_Spleen/imagesTs/._spleen_34.nii.gz\n",
            "Task09_Spleen/imagesTs/spleen_34.nii.gz\n",
            "Task09_Spleen/imagesTr/._spleen_19.nii.gz\n",
            "Task09_Spleen/imagesTr/spleen_19.nii.gz\n",
            "Task09_Spleen/imagesTr/._spleen_31.nii.gz\n",
            "Task09_Spleen/imagesTr/spleen_31.nii.gz\n",
            "Task09_Spleen/imagesTr/._spleen_52.nii.gz\n",
            "Task09_Spleen/imagesTr/spleen_52.nii.gz\n",
            "Task09_Spleen/imagesTr/._spleen_40.nii.gz\n",
            "Task09_Spleen/imagesTr/spleen_40.nii.gz\n",
            "Task09_Spleen/imagesTr/._spleen_3.nii.gz\n",
            "Task09_Spleen/imagesTr/spleen_3.nii.gz\n",
            "Task09_Spleen/imagesTr/._spleen_17.nii.gz\n",
            "Task09_Spleen/imagesTr/spleen_17.nii.gz\n",
            "Task09_Spleen/imagesTr/._spleen_21.nii.gz\n",
            "Task09_Spleen/imagesTr/spleen_21.nii.gz\n",
            "Task09_Spleen/imagesTr/._spleen_33.nii.gz\n",
            "Task09_Spleen/imagesTr/spleen_33.nii.gz\n",
            "Task09_Spleen/imagesTr/._spleen_9.nii.gz\n",
            "Task09_Spleen/imagesTr/spleen_9.nii.gz\n",
            "Task09_Spleen/imagesTr/._spleen_29.nii.gz\n",
            "Task09_Spleen/imagesTr/spleen_29.nii.gz\n",
            "Task09_Spleen/imagesTr/._spleen_46.nii.gz\n",
            "Task09_Spleen/imagesTr/spleen_46.nii.gz\n",
            "Task09_Spleen/imagesTr/._spleen_25.nii.gz\n",
            "Task09_Spleen/imagesTr/spleen_25.nii.gz\n",
            "Task09_Spleen/imagesTr/._spleen_13.nii.gz\n",
            "Task09_Spleen/imagesTr/spleen_13.nii.gz\n",
            "Task09_Spleen/imagesTr/._spleen_62.nii.gz\n",
            "Task09_Spleen/imagesTr/spleen_62.nii.gz\n",
            "Task09_Spleen/imagesTr/._spleen_27.nii.gz\n",
            "Task09_Spleen/imagesTr/spleen_27.nii.gz\n",
            "Task09_Spleen/imagesTr/._spleen_44.nii.gz\n",
            "Task09_Spleen/imagesTr/spleen_44.nii.gz\n",
            "Task09_Spleen/imagesTr/._spleen_56.nii.gz\n",
            "Task09_Spleen/imagesTr/spleen_56.nii.gz\n",
            "Task09_Spleen/imagesTr/._spleen_60.nii.gz\n",
            "Task09_Spleen/imagesTr/spleen_60.nii.gz\n",
            "Task09_Spleen/imagesTr/._spleen_2.nii.gz\n",
            "Task09_Spleen/imagesTr/spleen_2.nii.gz\n",
            "Task09_Spleen/imagesTr/._spleen_53.nii.gz\n",
            "Task09_Spleen/imagesTr/spleen_53.nii.gz\n",
            "Task09_Spleen/imagesTr/._spleen_41.nii.gz\n",
            "Task09_Spleen/imagesTr/spleen_41.nii.gz\n",
            "Task09_Spleen/imagesTr/._spleen_22.nii.gz\n",
            "Task09_Spleen/imagesTr/spleen_22.nii.gz\n",
            "Task09_Spleen/imagesTr/._spleen_14.nii.gz\n",
            "Task09_Spleen/imagesTr/spleen_14.nii.gz\n",
            "Task09_Spleen/imagesTr/._spleen_18.nii.gz\n",
            "Task09_Spleen/imagesTr/spleen_18.nii.gz\n",
            "Task09_Spleen/imagesTr/._spleen_20.nii.gz\n",
            "Task09_Spleen/imagesTr/spleen_20.nii.gz\n",
            "Task09_Spleen/imagesTr/._spleen_32.nii.gz\n",
            "Task09_Spleen/imagesTr/spleen_32.nii.gz\n",
            "Task09_Spleen/imagesTr/._spleen_16.nii.gz\n",
            "Task09_Spleen/imagesTr/spleen_16.nii.gz\n",
            "Task09_Spleen/imagesTr/._spleen_12.nii.gz\n",
            "Task09_Spleen/imagesTr/spleen_12.nii.gz\n",
            "Task09_Spleen/imagesTr/._spleen_63.nii.gz\n",
            "Task09_Spleen/imagesTr/spleen_63.nii.gz\n",
            "Task09_Spleen/imagesTr/._spleen_28.nii.gz\n",
            "Task09_Spleen/imagesTr/spleen_28.nii.gz\n",
            "Task09_Spleen/imagesTr/._spleen_24.nii.gz\n",
            "Task09_Spleen/imagesTr/spleen_24.nii.gz\n",
            "Task09_Spleen/imagesTr/._spleen_59.nii.gz\n",
            "Task09_Spleen/imagesTr/spleen_59.nii.gz\n",
            "Task09_Spleen/imagesTr/._spleen_47.nii.gz\n",
            "Task09_Spleen/imagesTr/spleen_47.nii.gz\n",
            "Task09_Spleen/imagesTr/._spleen_8.nii.gz\n",
            "Task09_Spleen/imagesTr/spleen_8.nii.gz\n",
            "Task09_Spleen/imagesTr/._spleen_6.nii.gz\n",
            "Task09_Spleen/imagesTr/spleen_6.nii.gz\n",
            "Task09_Spleen/imagesTr/._spleen_61.nii.gz\n",
            "Task09_Spleen/imagesTr/spleen_61.nii.gz\n",
            "Task09_Spleen/imagesTr/._spleen_10.nii.gz\n",
            "Task09_Spleen/imagesTr/spleen_10.nii.gz\n",
            "Task09_Spleen/imagesTr/._spleen_38.nii.gz\n",
            "Task09_Spleen/imagesTr/spleen_38.nii.gz\n",
            "Task09_Spleen/imagesTr/._spleen_45.nii.gz\n",
            "Task09_Spleen/imagesTr/spleen_45.nii.gz\n",
            "Task09_Spleen/imagesTr/._spleen_26.nii.gz\n",
            "Task09_Spleen/imagesTr/spleen_26.nii.gz\n",
            "Task09_Spleen/imagesTr/._spleen_49.nii.gz\n",
            "Task09_Spleen/imagesTr/spleen_49.nii.gz\n",
            "Task09_Spleen/labelsTr/._spleen_19.nii.gz\n",
            "Task09_Spleen/labelsTr/spleen_19.nii.gz\n",
            "Task09_Spleen/labelsTr/._spleen_31.nii.gz\n",
            "Task09_Spleen/labelsTr/spleen_31.nii.gz\n",
            "Task09_Spleen/labelsTr/._spleen_52.nii.gz\n",
            "Task09_Spleen/labelsTr/spleen_52.nii.gz\n",
            "Task09_Spleen/labelsTr/._spleen_40.nii.gz\n",
            "Task09_Spleen/labelsTr/spleen_40.nii.gz\n",
            "Task09_Spleen/labelsTr/._spleen_3.nii.gz\n",
            "Task09_Spleen/labelsTr/spleen_3.nii.gz\n",
            "Task09_Spleen/labelsTr/._spleen_17.nii.gz\n",
            "Task09_Spleen/labelsTr/spleen_17.nii.gz\n",
            "Task09_Spleen/labelsTr/._spleen_21.nii.gz\n",
            "Task09_Spleen/labelsTr/spleen_21.nii.gz\n",
            "Task09_Spleen/labelsTr/._spleen_33.nii.gz\n",
            "Task09_Spleen/labelsTr/spleen_33.nii.gz\n",
            "Task09_Spleen/labelsTr/._spleen_9.nii.gz\n",
            "Task09_Spleen/labelsTr/spleen_9.nii.gz\n",
            "Task09_Spleen/labelsTr/._spleen_29.nii.gz\n",
            "Task09_Spleen/labelsTr/spleen_29.nii.gz\n",
            "Task09_Spleen/labelsTr/._spleen_46.nii.gz\n",
            "Task09_Spleen/labelsTr/spleen_46.nii.gz\n",
            "Task09_Spleen/labelsTr/._spleen_25.nii.gz\n",
            "Task09_Spleen/labelsTr/spleen_25.nii.gz\n",
            "Task09_Spleen/labelsTr/._spleen_13.nii.gz\n",
            "Task09_Spleen/labelsTr/spleen_13.nii.gz\n",
            "Task09_Spleen/labelsTr/._spleen_62.nii.gz\n",
            "Task09_Spleen/labelsTr/spleen_62.nii.gz\n",
            "Task09_Spleen/labelsTr/._spleen_27.nii.gz\n",
            "Task09_Spleen/labelsTr/spleen_27.nii.gz\n",
            "Task09_Spleen/labelsTr/._spleen_44.nii.gz\n",
            "Task09_Spleen/labelsTr/spleen_44.nii.gz\n",
            "Task09_Spleen/labelsTr/._spleen_56.nii.gz\n",
            "Task09_Spleen/labelsTr/spleen_56.nii.gz\n",
            "Task09_Spleen/labelsTr/._spleen_60.nii.gz\n",
            "Task09_Spleen/labelsTr/spleen_60.nii.gz\n",
            "Task09_Spleen/labelsTr/._spleen_2.nii.gz\n",
            "Task09_Spleen/labelsTr/spleen_2.nii.gz\n",
            "Task09_Spleen/labelsTr/._spleen_53.nii.gz\n",
            "Task09_Spleen/labelsTr/spleen_53.nii.gz\n",
            "Task09_Spleen/labelsTr/._spleen_41.nii.gz\n",
            "Task09_Spleen/labelsTr/spleen_41.nii.gz\n",
            "Task09_Spleen/labelsTr/._spleen_22.nii.gz\n",
            "Task09_Spleen/labelsTr/spleen_22.nii.gz\n",
            "Task09_Spleen/labelsTr/._spleen_14.nii.gz\n",
            "Task09_Spleen/labelsTr/spleen_14.nii.gz\n",
            "Task09_Spleen/labelsTr/._spleen_18.nii.gz\n",
            "Task09_Spleen/labelsTr/spleen_18.nii.gz\n",
            "Task09_Spleen/labelsTr/._spleen_20.nii.gz\n",
            "Task09_Spleen/labelsTr/spleen_20.nii.gz\n",
            "Task09_Spleen/labelsTr/._spleen_32.nii.gz\n",
            "Task09_Spleen/labelsTr/spleen_32.nii.gz\n",
            "Task09_Spleen/labelsTr/._spleen_16.nii.gz\n",
            "Task09_Spleen/labelsTr/spleen_16.nii.gz\n",
            "Task09_Spleen/labelsTr/._spleen_12.nii.gz\n",
            "Task09_Spleen/labelsTr/spleen_12.nii.gz\n",
            "Task09_Spleen/labelsTr/._spleen_63.nii.gz\n",
            "Task09_Spleen/labelsTr/spleen_63.nii.gz\n",
            "Task09_Spleen/labelsTr/._spleen_28.nii.gz\n",
            "Task09_Spleen/labelsTr/spleen_28.nii.gz\n",
            "Task09_Spleen/labelsTr/._spleen_24.nii.gz\n",
            "Task09_Spleen/labelsTr/spleen_24.nii.gz\n",
            "Task09_Spleen/labelsTr/._spleen_59.nii.gz\n",
            "Task09_Spleen/labelsTr/spleen_59.nii.gz\n",
            "Task09_Spleen/labelsTr/._spleen_47.nii.gz\n",
            "Task09_Spleen/labelsTr/spleen_47.nii.gz\n",
            "Task09_Spleen/labelsTr/._spleen_8.nii.gz\n",
            "Task09_Spleen/labelsTr/spleen_8.nii.gz\n",
            "Task09_Spleen/labelsTr/._spleen_6.nii.gz\n",
            "Task09_Spleen/labelsTr/spleen_6.nii.gz\n",
            "Task09_Spleen/labelsTr/._spleen_61.nii.gz\n",
            "Task09_Spleen/labelsTr/spleen_61.nii.gz\n",
            "Task09_Spleen/labelsTr/._spleen_10.nii.gz\n",
            "Task09_Spleen/labelsTr/spleen_10.nii.gz\n",
            "Task09_Spleen/labelsTr/._spleen_38.nii.gz\n",
            "Task09_Spleen/labelsTr/spleen_38.nii.gz\n",
            "Task09_Spleen/labelsTr/._spleen_45.nii.gz\n",
            "Task09_Spleen/labelsTr/spleen_45.nii.gz\n",
            "Task09_Spleen/labelsTr/._spleen_26.nii.gz\n",
            "Task09_Spleen/labelsTr/spleen_26.nii.gz\n",
            "Task09_Spleen/labelsTr/._spleen_49.nii.gz\n",
            "Task09_Spleen/labelsTr/spleen_49.nii.gz\n"
          ]
        }
      ],
      "source": [
        "!tar -xvf batch1.tar"
      ]
    },
    {
      "cell_type": "markdown",
      "metadata": {
        "id": "1UN6jXpCaUrw"
      },
      "source": [
        "Take a look at the sidebar to see the downloaded files.\n",
        "\n",
        "The files in the Spleen Dataset are provided in the **NIfTI (Neuroimaging Informatics Technology Initiative) format**, which is a commonly used file format for storing medical imaging data. NIfTI files are designed to handle multi-dimensional image data, such as 3D and 4D volumes, making them ideal for CT, MRI, and similar imaging modalities.\n",
        "\n",
        "Each NIfTI file contains a 3D volumetric image represented as a grid of voxels (3D pixels), along with metadata stored in the file's header.\n",
        "\n",
        "The metadata includes important information such as voxel dimensions (spacing), image orientation, and the affine transformation matrix, which maps voxel coordinates to real-world spatial coordinates. We can use the **nibabel** Python library to load and work with NIfTI files."
      ]
    },
    {
      "cell_type": "markdown",
      "metadata": {
        "id": "JHC0u49KaUrw"
      },
      "source": [
        "> ### Assignment 1: Load and Visualize a NIfTI File\n",
        "> 1. Use the provided `load_ct_scan` function to load a CT scan and its corresponding label image from the dataset.\n",
        "> 2. Investigate the shape of the data to understand how the slices are organized.\n",
        "> 3. Select a transverse slice (e.g., the 35th slice) and display it using a suitable library.\n",
        "> 4. Display the corresponding label slice where the spleen is marked (label `1`) and the rest is background (label `0`).\n",
        "> 5. Create an image where the label is shown as a contour overlaid on the CT slice. Use OpenCV to extract and display the contours. The output should look like the following image (note that the example is cropped for display purposes).\n",
        ">\n",
        "> ![Screenshot 2025-01-20 at 09.46.35.png](https://marinbenc.notion.site/image/https%3A%2F%2Fprod-files-secure.s3.us-west-2.amazonaws.com%2Ff636e5c1-42c8-49e7-9cc3-e812a7ed4e8b%2Fe198d6c7-0b61-4522-903f-519399785c4c%2FScreenshot_2025-01-20_at_09.46.35.png?table=block&id=1814daba-200a-80d6-ace8-f83233b175fe&spaceId=f636e5c1-42c8-49e7-9cc3-e812a7ed4e8b&width=570&userId=&cache=v2)"
      ]
    },
    {
      "cell_type": "code",
      "execution_count": null,
      "metadata": {
        "id": "2nmAoPJcaUrw"
      },
      "outputs": [],
      "source": [
        "def load_ct_scan(file):\n",
        "  ct_scan = nib.load(file)\n",
        "  ct_data = ct_scan.get_fdata()\n",
        "  ct_data = np.rot90(np.array(ct_data), k=-1)\n",
        "  return ct_data"
      ]
    },
    {
      "cell_type": "code",
      "source": [
        "import numpy as np\n",
        "import matplotlib.pyplot as plt\n",
        "import nibabel as nib\n",
        "import cv2 as cv\n",
        "\n",
        "def load_ct_scan(file):\n",
        "    ct_scan = nib.load(file)\n",
        "    ct_data = ct_scan.get_fdata()\n",
        "    ct_data = np.rot90(np.array(ct_data), k=-1)\n",
        "    return ct_data\n",
        "\n",
        "ct_scan_path = 'Task09_Spleen/imagesTr/spleen_13.nii.gz'\n",
        "label_path = 'Task09_Spleen/labelsTr/spleen_13.nii.gz'\n",
        "\n",
        "ct_data = load_ct_scan(ct_scan_path)\n",
        "label_data = load_ct_scan(label_path)\n",
        "\n",
        "print(f\"CT Data Shape: {ct_data.shape}\")\n",
        "print(f\"Label Data Shape: {label_data.shape}\")\n",
        "\n",
        "slice_idx = 35\n",
        "ct_slice = ct_data[:, :, slice_idx]\n",
        "label_slice = label_data[:, :, slice_idx]\n",
        "\n",
        "plt.figure(figsize=(10, 5))\n",
        "plt.subplot(1, 3, 1)\n",
        "plt.title(\"CT Slice\")\n",
        "plt.imshow(ct_slice, cmap='gray')\n",
        "plt.axis('off')\n",
        "\n",
        "plt.subplot(1, 3, 2)\n",
        "plt.title(\"Label Slice\")\n",
        "plt.imshow(label_slice, cmap='gray')\n",
        "plt.axis('off')\n",
        "\n",
        "label_slice_uint8 = (label_slice * 255).astype(np.uint8)\n",
        "contours, _ = cv.findContours(label_slice_uint8, cv.RETR_EXTERNAL, cv.CHAIN_APPROX_SIMPLE)\n",
        "\n",
        "overlay = np.stack([ct_slice] * 3, axis=-1)\n",
        "overlay = (overlay - overlay.min()) / (overlay.max() - overlay.min())\n",
        "overlay = (overlay * 255).astype(np.uint8)\n",
        "\n",
        "cv.drawContours(overlay, contours, -1, (0, 255, 0), 2)\n",
        "\n",
        "plt.subplot(1, 3, 3)\n",
        "plt.title(\"CT with Contours\")\n",
        "plt.imshow(overlay)\n",
        "plt.show()\n"
      ],
      "metadata": {
        "colab": {
          "base_uri": "https://localhost:8080/",
          "height": 345
        },
        "id": "E-p0lxJVen_B",
        "outputId": "65772467-0945-4fdd-a72e-f95e2fb89adc"
      },
      "execution_count": null,
      "outputs": [
        {
          "output_type": "stream",
          "name": "stdout",
          "text": [
            "CT Data Shape: (512, 512, 77)\n",
            "Label Data Shape: (512, 512, 77)\n"
          ]
        },
        {
          "output_type": "display_data",
          "data": {
            "text/plain": [
              "<Figure size 1000x500 with 3 Axes>"
            ],
            "image/png": "[encoded data removed]"
          },
          "metadata": {}
        }
      ]
    },
    {
      "cell_type": "markdown",
      "metadata": {
        "id": "i6nCc5_eaUrx"
      },
      "source": [
        "> ### Assignment 2: Measure Spleen Width\n",
        ">\n",
        "> Calculate the **maximum anterior-posterior (AP) width** of the spleen on transverse CT slices. The AP width is the > longest distance between the anterior (front) and posterior (back) parts of the spleen in a given transverse (parallel to the floor when standing) slice.\n",
        ">\n",
        "> This distance corresponds to the top-most voxel to the bottom-most voxel in the spleen region of the label image. The measurement is parallel to the top-bottom axis of the image.\n",
        ">\n",
        "> ![Screenshot 2025-01-20 at 10.54.55.png](https://marinbenc.notion.site/image/https%3A%2F%2Fprod-files-secure.s3.us-west-2.amazonaws.com%2Ff636e5c1-42c8-49e7-9cc3-e812a7ed4e8b%2F6564a0f0-77d4-4d77-b1c0-7447eb16e36e%2FScreenshot_2025-01-20_at_10.54.55.png?table=block&id=1814daba-200a-8038-9271-f5d3845d973c&spaceId=f636e5c1-42c8-49e7-9cc3-e812a7ed4e8b&width=490&userId=&cache=v2)"
      ]
    },
    {
      "cell_type": "code",
      "execution_count": null,
      "metadata": {
        "colab": {
          "base_uri": "https://localhost:8080/"
        },
        "id": "thPvYHWiaUrx",
        "outputId": "669e2a2f-e30d-4ccb-e4a8-3ddbc734abf6"
      },
      "outputs": [
        {
          "output_type": "stream",
          "name": "stdout",
          "text": [
            "AP Width (in pixels): 134\n"
          ]
        }
      ],
      "source": [
        "import numpy as np\n",
        "import matplotlib.pyplot as plt\n",
        "import nibabel as nib\n",
        "import cv2 as cv\n",
        "\n",
        "def load_ct_scan(file):\n",
        "    ct_scan = nib.load(file)\n",
        "    ct_data = ct_scan.get_fdata()\n",
        "    ct_data = np.rot90(np.array(ct_data), k=-1)\n",
        "    return ct_data\n",
        "\n",
        "ct_scan_path = 'Task09_Spleen/imagesTr/spleen_13.nii.gz'\n",
        "label_path = 'Task09_Spleen/labelsTr/spleen_13.nii.gz'\n",
        "\n",
        "ct_data = load_ct_scan(ct_scan_path)\n",
        "label_data = load_ct_scan(label_path)\n",
        "\n",
        "slice_idx = 35\n",
        "label_slice = label_data[:, :, slice_idx]\n",
        "\n",
        "spleen_coords = np.argwhere(label_slice == 1)\n",
        "\n",
        "if spleen_coords.size > 0:\n",
        "    top_most = spleen_coords[:, 0].min()\n",
        "    bottom_most = spleen_coords[:, 0].max()\n",
        "    ap_width = bottom_most - top_most\n",
        "\n",
        "    print(f\"AP Width (in pixels): {ap_width}\")\n",
        "else:\n",
        "    print(\"No spleen detected in this slice.\")\n"
      ]
    },
    {
      "cell_type": "markdown",
      "metadata": {
        "id": "_N5zJBSYaUrx"
      },
      "source": [
        "> ### Assignment 3: Convert Width to Millimeters and Analyze Results\n",
        ">\n",
        "> 1. **Convert to Millimeters:**\n",
        ">     - Use the voxel spacing information from the metadata of each NIfTI file to convert the measured spleen widths (in > pixels) to millimeters.\n",
        ">     - You can extract voxel spacing from the affine matrix using the `nibabel.affines.voxel_sizes` function.\n",
        ">     \n",
        ">     **Hint:** Refer to [this link](https://nipy.org/nibabel/reference/nibabel.affines.html#nibabel.affines.voxel_sizes) for more details on how to use the affine matrix.\n",
        ">     \n",
        ">     Example code to retrieve voxel spacing:\n",
        ">     \n",
        ">     ```python\n",
        ">     nifti_file = nib.load('Task09_Spleen/imagesTr/spleen_13.nii.gz')\n",
        ">     affine = nifti_file.affine\n",
        ">     voxel_spacing = nib.affines.voxel_sizes(affine)\n",
        ">     \n",
        ">     ```\n",
        ">\n",
        "> 2. **Calculate for Each Patient:**\n",
        ">     - Iterate through all patient files in the dataset.\n",
        ">     - For each patient, calculate the **maximum AP width** across all transverse slices.\n",
        ">     - Convert the maximum width from pixels to millimeters using the voxel spacing.\n",
        "> 3. **Store Results:**\n",
        ">     - Create a data structure (e.g., dictionary, table) to store the results in the format:`Patient ID: Maximum Spleen Width (mm)`.\n",
        "> 4. **Analyze Splenomegaly:**\n",
        ">     - Use **Radiopaedia** or other references to check spleen max. AP width thresholds for diagnosing splenomegaly.\n",
        ">     - Based on the results, identify which patients might have splenomegaly.\n",
        ">     - https://radiopaedia.org/articles/splenomegaly"
      ]
    },
    {
      "cell_type": "code",
      "execution_count": 27,
      "metadata": {
        "colab": {
          "base_uri": "https://localhost:8080/"
        },
        "id": "xb6J-yYMaUrx",
        "outputId": "afddcb04-9b72-404b-f882-a1d4a93d6563"
      },
      "outputs": [
        {
          "output_type": "stream",
          "name": "stdout",
          "text": [
            "Patient ID: Maximum Spleen Width (mm)\n",
            "spleen_24.nii: 62.42 mm\n",
            "spleen_18.nii: 85.08 mm\n",
            "spleen_40.nii: 68.25 mm\n",
            "spleen_62.nii: 114.88 mm\n",
            "spleen_63.nii: 93.24 mm\n",
            "spleen_60.nii: 111.81 mm\n",
            "spleen_41.nii: 69.78 mm\n",
            "spleen_26.nii: 78.61 mm\n",
            "spleen_32.nii: 118.21 mm\n",
            "spleen_47.nii: 116.99 mm\n",
            "spleen_20.nii: 86.82 mm\n",
            "spleen_52.nii: 72.42 mm\n",
            "spleen_6.nii: 105.79 mm\n",
            "spleen_2.nii: 97.78 mm\n",
            "spleen_9.nii: 91.53 mm\n",
            "spleen_19.nii: 125.11 mm\n",
            "spleen_14.nii: 131.14 mm\n",
            "spleen_56.nii: 63.63 mm\n",
            "spleen_12.nii: 122.13 mm\n",
            "spleen_38.nii: 64.87 mm\n",
            "spleen_61.nii: 87.40 mm\n",
            "spleen_17.nii: 46.61 mm\n",
            "spleen_10.nii: 109.37 mm\n",
            "spleen_29.nii: 77.34 mm\n",
            "spleen_3.nii: 90.81 mm\n",
            "spleen_16.nii: 79.30 mm\n",
            "spleen_53.nii: 89.45 mm\n",
            "spleen_22.nii: 98.81 mm\n",
            "spleen_59.nii: 126.51 mm\n",
            "spleen_13.nii: 104.65 mm\n",
            "spleen_28.nii: 71.25 mm\n",
            "spleen_33.nii: 101.62 mm\n",
            "spleen_46.nii: 79.10 mm\n",
            "spleen_45.nii: 96.09 mm\n",
            "spleen_31.nii: 96.23 mm\n",
            "spleen_49.nii: 118.64 mm\n",
            "spleen_27.nii: 68.49 mm\n",
            "spleen_8.nii: 122.48 mm\n",
            "spleen_25.nii: 55.34 mm\n",
            "spleen_21.nii: 74.11 mm\n",
            "spleen_44.nii: 87.98 mm\n",
            "\n",
            "Patients with Splenomegaly:\n",
            "spleen_19.nii\n",
            "spleen_14.nii\n",
            "spleen_12.nii\n",
            "spleen_59.nii\n",
            "spleen_8.nii\n",
            "Number of patients with splenomegaly 5\n"
          ]
        }
      ],
      "source": [
        "import os\n",
        "import numpy as np\n",
        "import nibabel as nib\n",
        "from nibabel.affines import voxel_sizes\n",
        "\n",
        "def load_ct_scan(file):\n",
        "    ct_scan = nib.load(file)\n",
        "    ct_data = ct_scan.get_fdata()\n",
        "    ct_data = np.rot90(np.array(ct_data), k=-1)\n",
        "    return ct_data, ct_scan.affine\n",
        "\n",
        "def calculate_max_ap_width(label_data):\n",
        "    max_width = 0\n",
        "    for slice_idx in range(label_data.shape[2]):\n",
        "        label_slice = label_data[:, :, slice_idx]\n",
        "        spleen_coords = np.argwhere(label_slice == 1)\n",
        "        if spleen_coords.size > 0:\n",
        "            top_most = spleen_coords[:, 0].min()\n",
        "            bottom_most = spleen_coords[:, 0].max()\n",
        "            ap_width = bottom_most - top_most\n",
        "            max_width = max(max_width, ap_width)\n",
        "    return max_width\n",
        "\n",
        "dataset_path = \"Task09_Spleen\"\n",
        "image_folder = os.path.join(dataset_path, \"imagesTr\")\n",
        "label_folder = os.path.join(dataset_path, \"labelsTr\")\n",
        "\n",
        "results = {}\n",
        "\n",
        "for patient_file in os.listdir(image_folder):\n",
        "    if patient_file.startswith(\"._\"):\n",
        "        continue\n",
        "    if patient_file.endswith(\".nii.gz\"):\n",
        "\n",
        "        patient_id = os.path.splitext(patient_file)[0]\n",
        "        ct_scan_path = os.path.join(image_folder, patient_file)\n",
        "        label_path = os.path.join(label_folder, patient_file)\n",
        "\n",
        "        label_data, affine = load_ct_scan(label_path)\n",
        "\n",
        "        max_width_pixels = calculate_max_ap_width(label_data)\n",
        "\n",
        "        voxel_spacing = voxel_sizes(affine)\n",
        "        max_width_mm = max_width_pixels * voxel_spacing[0]\n",
        "\n",
        "        results[patient_id] = max_width_mm\n",
        "\n",
        "splenomegaly_threshold = 120\n",
        "patients_with_splenomegaly = [patient for patient, width in results.items() if width > splenomegaly_threshold]\n",
        "\n",
        "print(\"Patient ID: Maximum Spleen Width (mm)\")\n",
        "for patient, width in results.items():\n",
        "    print(f\"{patient}: {width:.2f} mm\")\n",
        "\n",
        "print(\"\\nPatients with Splenomegaly:\")\n",
        "for patient in patients_with_splenomegaly:\n",
        "    print(patient)\n",
        "print(f\"Number of patients with splenomegaly {len(patients_with_splenomegaly)}\")"
      ]
    },
    {
      "cell_type": "markdown",
      "metadata": {
        "id": "B4vVOoaIaUrx"
      },
      "source": [
        "Don't forget to save your results to GitHub."
      ]
    }
  ],
  "metadata": {
    "colab": {
      "provenance": [],
      "include_colab_link": true
    },
    "kernelspec": {
      "display_name": "tutorial",
      "language": "python",
      "name": "python3"
    },
    "language_info": {
      "codemirror_mode": {
        "name": "ipython",
        "version": 3
      },
      "file_extension": ".py",
      "mimetype": "text/x-python",
      "name": "python",
      "nbconvert_exporter": "python",
      "pygments_lexer": "ipython3",
      "version": "3.10.6"
    }
  },
  "nbformat": 4,
  "nbformat_minor": 0
}